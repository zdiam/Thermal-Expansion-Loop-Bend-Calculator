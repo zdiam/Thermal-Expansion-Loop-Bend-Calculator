{
 "cells": [
  {
   "cell_type": "code",
   "execution_count": 66,
   "metadata": {},
   "outputs": [],
   "source": [
    "import tkinter as tk\n",
    "from tkinter import *\n",
    "import pandas as pd\n",
    "from PIL import ImageTk, Image\n",
    "from tkinter import filedialog\n",
    "\n",
    "root = Tk()\n",
    "root.geometry('1200x1200')\n",
    "root.title('Thermal Expansion Calculator')\n",
    "root.resizable(width=False, height=False)\n",
    "\n",
    "\n",
    "x = 'steel pipe data.png'\n",
    "img = Image.open(x)\n",
    "img = img.resize((800, 1150))\n",
    "img = ImageTk.PhotoImage(img)\n",
    "panel = Label(root, image=img)\n",
    "panel.image = img\n",
    "panel.pack(side=RIGHT)\n",
    "\n",
    "\n",
    "\n",
    "def info():\n",
    "    list_of_lists = [[f'{psig.get()}',],\n",
    "                    [f'{length.get()}',], [f'{pipeOD.get()}',]],\n",
    "\n",
    "\n",
    "entry1_text = Label(root, text = 'Enter Pressure of Steam(psig)')\n",
    "entry2_text = Label(root, text = 'Enter Straight Length of Pipe(ft)')\n",
    "entry3_text = Label(root, text = 'Enter Outside Diameter of Pipe(in^2)')\n",
    "creditText = Label(root, text = 'Credit to 2016 ASHRAE Handbook—HVAC Systems and Equipment Chapter 46')\n",
    "\n",
    "entry1_text.place(x = 15, y = 30)\n",
    "entry2_text.place(x = 15, y = 90)\n",
    "entry3_text.place(x = 15, y = 150)\n",
    "creditText.place(x=395, y=1175)\n",
    "\n",
    "psig = StringVar()\n",
    "length = StringVar()\n",
    "pipeOD = StringVar()\n",
    "\n",
    "\n",
    "psig_entry = Entry(root, textvariable = psig, width = \"15\")\n",
    "length_entry = Entry(root, textvariable = length, width = \"15\")\n",
    "pipeOD_entry = Entry(root, textvariable = pipeOD, width = \"15\")\n",
    "\n",
    "psig_entry.place(x = 15, y = 60)\n",
    "length_entry.place(x = 15, y = 120)\n",
    "pipeOD_entry.place(x=15, y = 180)\n",
    "\n",
    "\n",
    "register = Button(root,text = \"Run\", width = \"10\", height = \"2\", command=root.destroy, bg = \"#32a86d\")\n",
    "register.place(x = 15, y = 240)\n",
    "\n",
    "root.mainloop()\n"
   ]
  },
  {
   "cell_type": "code",
   "execution_count": 67,
   "metadata": {},
   "outputs": [],
   "source": [
    "from pyXSteam.XSteam import XSteam\n"
   ]
  },
  {
   "cell_type": "code",
   "execution_count": 68,
   "metadata": {},
   "outputs": [],
   "source": [
    "\n",
    "##from gui\n",
    "###input psig of steam as ''psi''\n",
    "###input length as ''length\n",
    "\n"
   ]
  },
  {
   "cell_type": "code",
   "execution_count": 69,
   "metadata": {},
   "outputs": [],
   "source": [
    "\n",
    "psigC = float(psig.get())\n",
    "lengthC = float(length.get())"
   ]
  },
  {
   "cell_type": "code",
   "execution_count": 70,
   "metadata": {},
   "outputs": [],
   "source": [
    "psia = psigC + 14.696"
   ]
  },
  {
   "cell_type": "code",
   "execution_count": 71,
   "metadata": {},
   "outputs": [],
   "source": [
    "steamTable = XSteam(XSteam.UNIT_SYSTEM_FLS)"
   ]
  },
  {
   "cell_type": "code",
   "execution_count": 72,
   "metadata": {},
   "outputs": [],
   "source": [
    "tempPsi = steamTable.tsat_p(psia)"
   ]
  },
  {
   "cell_type": "code",
   "execution_count": 73,
   "metadata": {},
   "outputs": [
    {
     "data": {
      "text/plain": [
       "323.89451586398485"
      ]
     },
     "execution_count": 73,
     "metadata": {},
     "output_type": "execute_result"
    }
   ],
   "source": [
    "tempPsi"
   ]
  },
  {
   "cell_type": "code",
   "execution_count": 74,
   "metadata": {},
   "outputs": [],
   "source": [
    "##add gui selection for values\n",
    "\n",
    "#https://www.engineeringtoolbox.com/pipes-temperature-expansion-coefficients-d_48.html\n",
    "\n",
    "#10-6 in/in oF\n",
    "#Aluminum\t12.8\t\n",
    "#Carbon Steel\t6.5\t\n",
    "#Cast Iron\t5.9\t\n",
    "#Copper\t9.3\t\n",
    "#Stainless Steel\t9.9\t\n",
    "#ABS Acrylonitrile butadiene styrene\t35.0\t\n",
    "#HDPE High density polyethylene\t67.0\t\n",
    "#PE Polyethylene\t83.0\t\n",
    "#CPVC Chlorinated polyvinyl chloride\t44.0\t\n",
    "#PVC Polyvinyl chloride\t28.0\t"
   ]
  },
  {
   "cell_type": "code",
   "execution_count": 75,
   "metadata": {},
   "outputs": [],
   "source": [
    "#preguitester\n",
    "coeffTExp = 6.5 * 10**-6"
   ]
  },
  {
   "cell_type": "code",
   "execution_count": 76,
   "metadata": {},
   "outputs": [],
   "source": [
    "deltaExp = coeffTExp * lengthC * tempPsi * 12#(in conversion) "
   ]
  },
  {
   "cell_type": "code",
   "execution_count": 77,
   "metadata": {},
   "outputs": [
    {
     "data": {
      "text/plain": [
       "3.157971529673852"
      ]
     },
     "execution_count": 77,
     "metadata": {},
     "output_type": "execute_result"
    }
   ],
   "source": [
    "deltaExp"
   ]
  },
  {
   "cell_type": "code",
   "execution_count": 78,
   "metadata": {},
   "outputs": [],
   "source": [
    "##add gui pipe OD"
   ]
  },
  {
   "cell_type": "code",
   "execution_count": 79,
   "metadata": {},
   "outputs": [],
   "source": [
    "pipeODC = float(pipeOD.get())"
   ]
  },
  {
   "cell_type": "code",
   "execution_count": 80,
   "metadata": {},
   "outputs": [],
   "source": [
    "import math"
   ]
  },
  {
   "cell_type": "code",
   "execution_count": 81,
   "metadata": {},
   "outputs": [],
   "source": [
    "deltaPSq = math.sqrt(deltaExp*pipeODC)"
   ]
  },
  {
   "cell_type": "code",
   "execution_count": 82,
   "metadata": {},
   "outputs": [],
   "source": [
    "zL = 4 *deltaPSq"
   ]
  },
  {
   "cell_type": "code",
   "execution_count": 83,
   "metadata": {},
   "outputs": [
    {
     "data": {
      "text/plain": [
       "247.46592473194232"
      ]
     },
     "execution_count": 83,
     "metadata": {},
     "output_type": "execute_result"
    }
   ],
   "source": [
    "zL"
   ]
  },
  {
   "cell_type": "code",
   "execution_count": 84,
   "metadata": {},
   "outputs": [],
   "source": [
    "uL = 6.225 * deltaPSq"
   ]
  },
  {
   "cell_type": "code",
   "execution_count": 85,
   "metadata": {},
   "outputs": [
    {
     "data": {
      "text/plain": [
       "385.11884536408525"
      ]
     },
     "execution_count": 85,
     "metadata": {},
     "output_type": "execute_result"
    }
   ],
   "source": [
    "uL"
   ]
  },
  {
   "cell_type": "code",
   "execution_count": 86,
   "metadata": {},
   "outputs": [],
   "source": [
    "uW = (uL/5)\n",
    "uH = 2*uW"
   ]
  },
  {
   "cell_type": "code",
   "execution_count": 87,
   "metadata": {},
   "outputs": [
    {
     "data": {
      "text/plain": [
       "77.02376907281705"
      ]
     },
     "execution_count": 87,
     "metadata": {},
     "output_type": "execute_result"
    }
   ],
   "source": [
    "uW"
   ]
  },
  {
   "cell_type": "code",
   "execution_count": 88,
   "metadata": {},
   "outputs": [
    {
     "data": {
      "text/plain": [
       "154.0475381456341"
      ]
     },
     "execution_count": 88,
     "metadata": {},
     "output_type": "execute_result"
    }
   ],
   "source": [
    "uH"
   ]
  },
  {
   "cell_type": "code",
   "execution_count": 89,
   "metadata": {},
   "outputs": [],
   "source": [
    "zLT = str(round(zL, 2))\n",
    "uLT = str(round(uL, 2))\n",
    "uWT = str(round(uW, 2))\n",
    "uWH = str(round(uH, 2))"
   ]
  },
  {
   "cell_type": "code",
   "execution_count": 90,
   "metadata": {},
   "outputs": [
    {
     "data": {
      "text/plain": [
       "'247.47'"
      ]
     },
     "execution_count": 90,
     "metadata": {},
     "output_type": "execute_result"
    }
   ],
   "source": [
    "zLT"
   ]
  },
  {
   "cell_type": "code",
   "execution_count": 91,
   "metadata": {},
   "outputs": [],
   "source": [
    "root = Tk()\n",
    "root.geometry('800x400')\n",
    "root.title('Thermal Expansion Output Values')\n",
    "\n",
    "root.resizable(width=False, height=False)\n",
    "\n",
    "\n",
    "y = 'z bend and loop.png'\n",
    "img = Image.open(y)\n",
    "img = img.resize((500, 350))\n",
    "img = ImageTk.PhotoImage(img)\n",
    "panel = Label(root, image=img)\n",
    "panel.image = img\n",
    "panel.pack(side=RIGHT)\n",
    "\n",
    "\n",
    "\n",
    "entry1_text = Label(root, text = 'Z-bend length is : ' + zLT + ' ft.')\n",
    "entry2_text = Label(root, text = 'Expansion total loop length is : ' + uLT+ ' ft.')\n",
    "entry3_text = Label(root, text = 'Expansion loop width is : ' + uWT+ ' ft.')\n",
    "entry4_text = Label(root, text = 'Expansion loop height is : ' + uWH+ ' ft.')\n",
    "\n",
    "creditText2 = Label(root, text = 'Credit to 2016 ASHRAE Handbook—HVAC Systems and Equipment Chapter 46')\n",
    "\n",
    "ztext = '\\u0332'.join('Z-Bend Reference Image'+' ')[:-1]\n",
    "ltext = '\\u0332'.join('Expansion Loop Reference Image'+' ')[:-1]\n",
    "\n",
    "\n",
    "zbend_text = Label(root, text = ztext)\n",
    "\n",
    "eloop_text = Label(root, text = ltext)\n",
    "\n",
    "\n",
    "creditText2.place(x=295, y=375)\n",
    "\n",
    "zbend_text.place(x=485,y=5)\n",
    "eloop_text.place(x=465,y=200)\n",
    "\n",
    "entry1_text.place(x = 15, y = 30)\n",
    "entry2_text.place(x = 15, y = 90)\n",
    "entry3_text.place(x = 15, y = 150)\n",
    "entry4_text.place(x = 15, y = 210)\n",
    "\n",
    "\n",
    "#printing from a button? \n",
    "register = Button(root,text = \"Print!\", width = \"25\", height = \"3\", command=root.destroy, bg = \"#1FE9EB\")\n",
    "register.place(x = 15, y = 290)\n",
    "\n",
    "root.mainloop()\n"
   ]
  }
 ],
 "metadata": {
  "kernelspec": {
   "display_name": "base",
   "language": "python",
   "name": "python3"
  },
  "language_info": {
   "codemirror_mode": {
    "name": "ipython",
    "version": 3
   },
   "file_extension": ".py",
   "mimetype": "text/x-python",
   "name": "python",
   "nbconvert_exporter": "python",
   "pygments_lexer": "ipython3",
   "version": "3.9.13"
  },
  "orig_nbformat": 4,
  "vscode": {
   "interpreter": {
    "hash": "372109190dea5f63f1f14f4c7b56cd6f3d2c0f9869deae109884d417dc836e63"
   }
  }
 },
 "nbformat": 4,
 "nbformat_minor": 2
}
