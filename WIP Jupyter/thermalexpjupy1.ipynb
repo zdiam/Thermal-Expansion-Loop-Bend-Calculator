{
 "cells": [
  {
   "cell_type": "code",
   "execution_count": 35,
   "metadata": {},
   "outputs": [
    {
     "data": {
      "text/plain": [
       "14.709434089638583"
      ]
     },
     "execution_count": 35,
     "metadata": {},
     "output_type": "execute_result"
    }
   ],
   "source": [
    "from pyXSteam.XSteam import XSteam\n"
   ]
  },
  {
   "cell_type": "code",
   "execution_count": null,
   "metadata": {},
   "outputs": [],
   "source": [
    "\n",
    "##from gui\n",
    "###input psig of steam as ''psi''\n",
    "###input length as ''length\n",
    "\n",
    "##"
   ]
  },
  {
   "cell_type": "code",
   "execution_count": null,
   "metadata": {},
   "outputs": [],
   "source": []
  },
  {
   "cell_type": "code",
   "execution_count": 66,
   "metadata": {},
   "outputs": [],
   "source": [
    "#preguitester\n",
    "psig = 75\n",
    "length = 100"
   ]
  },
  {
   "cell_type": "code",
   "execution_count": 67,
   "metadata": {},
   "outputs": [],
   "source": [
    "psia = psig + 14.696"
   ]
  },
  {
   "cell_type": "code",
   "execution_count": 68,
   "metadata": {},
   "outputs": [],
   "source": [
    "steamTable = XSteam(XSteam.UNIT_SYSTEM_FLS)"
   ]
  },
  {
   "cell_type": "code",
   "execution_count": 69,
   "metadata": {},
   "outputs": [],
   "source": [
    "tempPsi = steamTable.tsat_p(psia)"
   ]
  },
  {
   "cell_type": "code",
   "execution_count": 70,
   "metadata": {},
   "outputs": [
    {
     "data": {
      "text/plain": [
       "320.0335365509017"
      ]
     },
     "execution_count": 70,
     "metadata": {},
     "output_type": "execute_result"
    }
   ],
   "source": [
    "tempPsi"
   ]
  },
  {
   "cell_type": "code",
   "execution_count": null,
   "metadata": {},
   "outputs": [],
   "source": [
    "##add gui selection for values\n",
    "\n",
    "#https://www.engineeringtoolbox.com/pipes-temperature-expansion-coefficients-d_48.html\n",
    "\n",
    "#10-6 in/in oF\n",
    "#Aluminum\t12.8\t\n",
    "#Carbon Steel\t6.5\t\n",
    "#Cast Iron\t5.9\t\n",
    "#Copper\t9.3\t\n",
    "#Stainless Steel\t9.9\t\n",
    "#ABS Acrylonitrile butadiene styrene\t35.0\t\n",
    "#HDPE High density polyethylene\t67.0\t\n",
    "#PE Polyethylene\t83.0\t\n",
    "#CPVC Chlorinated polyvinyl chloride\t44.0\t\n",
    "#PVC Polyvinyl chloride\t28.0\t"
   ]
  },
  {
   "cell_type": "code",
   "execution_count": 78,
   "metadata": {},
   "outputs": [],
   "source": [
    "#preguitester\n",
    "coeffTExp = 6.5 * 10**-6"
   ]
  },
  {
   "cell_type": "code",
   "execution_count": 79,
   "metadata": {},
   "outputs": [
    {
     "data": {
      "text/plain": [
       "2.496261585097033"
      ]
     },
     "execution_count": 79,
     "metadata": {},
     "output_type": "execute_result"
    }
   ],
   "source": [
    "coeffTExp * length * tempPsi *12#(in conversion) "
   ]
  },
  {
   "cell_type": "code",
   "execution_count": null,
   "metadata": {},
   "outputs": [],
   "source": [
    "#image.pngFormula\t\n",
    "#multiply the pressure value by 14.696\n"
   ]
  },
  {
   "cell_type": "code",
   "execution_count": null,
   "metadata": {},
   "outputs": [],
   "source": []
  }
 ],
 "metadata": {
  "kernelspec": {
   "display_name": "base",
   "language": "python",
   "name": "python3"
  },
  "language_info": {
   "name": "python",
   "version": "3.9.13 (main, Aug 25 2022, 23:51:50) [MSC v.1916 64 bit (AMD64)]"
  },
  "orig_nbformat": 4,
  "vscode": {
   "interpreter": {
    "hash": "372109190dea5f63f1f14f4c7b56cd6f3d2c0f9869deae109884d417dc836e63"
   }
  }
 },
 "nbformat": 4,
 "nbformat_minor": 2
}
