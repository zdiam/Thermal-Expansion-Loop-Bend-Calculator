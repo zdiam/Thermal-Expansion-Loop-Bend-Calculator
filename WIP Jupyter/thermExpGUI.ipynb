{
 "cells": [
  {
   "cell_type": "code",
   "execution_count": 60,
   "metadata": {},
   "outputs": [],
   "source": [
    "import tkinter as tk\n",
    "from tkinter import *\n",
    "import pandas as pd\n",
    "\n",
    "\n",
    "root = Tk()\n",
    "root.geometry('450x450')\n",
    "root.title('Thermal Expansion Calculator')\n",
    "\n",
    "def info():\n",
    "    list_of_lists = [[f'{psig.get()}',],\n",
    "                    [f'{length.get()}',], [f'{pipeOD.get()}',]],\n",
    "\n",
    "\n",
    "entry1_text = Label(root, text = 'Enter Pressure of Steam(psig)')\n",
    "entry2_text = Label(root, text = 'Enter Straight Length of Pipe(ft)')\n",
    "entry3_text = Label(root, text = 'Enter Outside Diameter of Pipe(in^2)')\n",
    "\n",
    "entry1_text.place(x = 15, y = 30)\n",
    "entry2_text.place(x = 15, y = 90)\n",
    "entry3_text.place(x = 15, y = 150)\n",
    "\n",
    "psig = StringVar()\n",
    "length = StringVar()\n",
    "pipeOD = StringVar()\n",
    "\n",
    "\n",
    "psig_entry = Entry(root, textvariable = psig, width = \"15\")\n",
    "length_entry = Entry(root, textvariable = length, width = \"15\")\n",
    "pipeOD_entry = Entry(root, textvariable = pipeOD, width = \"15\")\n",
    "\n",
    "psig_entry.place(x = 15, y = 60)\n",
    "length_entry.place(x = 15, y = 120)\n",
    "pipeOD_entry.place(x=15, y = 180)\n",
    "\n",
    "\n",
    "register = Button(root,text = \"Run\", width = \"10\", height = \"2\", command=root.destroy, bg = \"#32a86d\")\n",
    "register.place(x = 15, y = 240)\n",
    "\n",
    "root.mainloop()\n"
   ]
  },
  {
   "cell_type": "code",
   "execution_count": 61,
   "metadata": {},
   "outputs": [
    {
     "data": {
      "text/plain": [
       "''"
      ]
     },
     "execution_count": 61,
     "metadata": {},
     "output_type": "execute_result"
    }
   ],
   "source": [
    "psig.get()"
   ]
  },
  {
   "cell_type": "code",
   "execution_count": 62,
   "metadata": {},
   "outputs": [
    {
     "data": {
      "text/plain": [
       "''"
      ]
     },
     "execution_count": 62,
     "metadata": {},
     "output_type": "execute_result"
    }
   ],
   "source": [
    "length.get()"
   ]
  },
  {
   "cell_type": "code",
   "execution_count": 63,
   "metadata": {},
   "outputs": [
    {
     "data": {
      "text/plain": [
       "''"
      ]
     },
     "execution_count": 63,
     "metadata": {},
     "output_type": "execute_result"
    }
   ],
   "source": [
    "pipeOD.get()"
   ]
  }
 ],
 "metadata": {
  "kernelspec": {
   "display_name": "Python 3.9.13 ('base')",
   "language": "python",
   "name": "python3"
  },
  "language_info": {
   "codemirror_mode": {
    "name": "ipython",
    "version": 3
   },
   "file_extension": ".py",
   "mimetype": "text/x-python",
   "name": "python",
   "nbconvert_exporter": "python",
   "pygments_lexer": "ipython3",
   "version": "3.9.13"
  },
  "orig_nbformat": 4,
  "vscode": {
   "interpreter": {
    "hash": "372109190dea5f63f1f14f4c7b56cd6f3d2c0f9869deae109884d417dc836e63"
   }
  }
 },
 "nbformat": 4,
 "nbformat_minor": 2
}
